{
 "cells": [
  {
   "cell_type": "markdown",
   "metadata": {},
   "source": [
    "# SumEval パッケージを用いてROUGEスコアを計算"
   ]
  },
  {
   "cell_type": "code",
   "execution_count": 69,
   "metadata": {
    "collapsed": true
   },
   "outputs": [],
   "source": [
    "import os.path\n",
    "from sumeval.metrics.rouge import RougeCalculator"
   ]
  },
  {
   "cell_type": "code",
   "execution_count": 70,
   "metadata": {
    "collapsed": true
   },
   "outputs": [],
   "source": [
    "with open('./outputs/ref/1.txt') as ref:\n",
    "    reference = ref.read()\n",
    "\n",
    "with open('./outputs/hyp/1.txt') as hyp:\n",
    "    summary = hyp.read()"
   ]
  },
  {
   "cell_type": "markdown",
   "metadata": {},
   "source": [
    "## 生成された結果と，参照要約の形式を確認"
   ]
  },
  {
   "cell_type": "code",
   "execution_count": 71,
   "metadata": {
    "collapsed": false
   },
   "outputs": [
    {
     "data": {
      "text/plain": [
       "\"things have n't been going well for manchester united flop anderson since he left old trafford to return to brazil , but at least on wednesday his own errors were outshone by the stupidity of a team - mate. but fortunately for anderson , his colleague fabricio stole the limelight by swearing at his own fans and becoming the third player to be shown the red card , reducing internacional to nine men in the 1 - 1 draw in porto alegre. former manchester united midfielder anderson shoved neto off the ball to earn a red card neto also saw red after he retaliated by by appearing to aim an elbow at anderson in porto alegre the two players listen to the referee as he reaches for his card from his back pocket on wednesday night anderson shows his shock to be shown the red card for what he believed to be an innocent challenge while some players offered their hands in apology to the fans after being repeatedly booed , fabricio took a different route and showed two middle fingers to the crowd leaving referee luis teixeira rocha with no choice but to give him his marching orders\""
      ]
     },
     "execution_count": 71,
     "metadata": {},
     "output_type": "execute_result"
    }
   ],
   "source": [
    "summary = '. '.join(summary.split('\\n'))\n",
    "summary"
   ]
  },
  {
   "cell_type": "code",
   "execution_count": 83,
   "metadata": {
    "collapsed": false
   },
   "outputs": [
    {
     "data": {
      "text/plain": [
       "53"
      ]
     },
     "execution_count": 83,
     "metadata": {},
     "output_type": "execute_result"
    }
   ],
   "source": [
    "import sys\n",
    "sys.getsizeof(summary)\n",
    "sys.getsizeof('abcd')"
   ]
  },
  {
   "cell_type": "code",
   "execution_count": 95,
   "metadata": {
    "collapsed": false
   },
   "outputs": [
    {
     "data": {
      "text/plain": [
       "\"things have n't been going well for manchester united flop anderson since h\""
      ]
     },
     "execution_count": 95,
     "metadata": {},
     "output_type": "execute_result"
    }
   ],
   "source": [
    "# 先頭から75文字のみを抽出\n",
    "summary[:75]"
   ]
  },
  {
   "cell_type": "code",
   "execution_count": 100,
   "metadata": {
    "collapsed": false
   },
   "outputs": [
    {
     "data": {
      "text/plain": [
       "['manchester united flop anderson was sent off for internacional this week',\n",
       " 'anderson saw red for an off - the - ball shove during the first half of 1 -',\n",
       " 'team - mate fabricio stole the limelight by swearing at his own fans']"
      ]
     },
     "execution_count": 100,
     "metadata": {},
     "output_type": "execute_result"
    }
   ],
   "source": [
    "[ref[:75] for ref in reference.split('\\n')]"
   ]
  },
  {
   "cell_type": "code",
   "execution_count": 8,
   "metadata": {
    "collapsed": false
   },
   "outputs": [
    {
     "data": {
      "text/plain": [
       "'manchester united flop anderson was sent off for internacional this week. anderson saw red for an off - the - ball shove during the first half of 1 - 1 draw. team - mate fabricio stole the limelight by swearing at his own fans'"
      ]
     },
     "execution_count": 8,
     "metadata": {},
     "output_type": "execute_result"
    }
   ],
   "source": [
    "# 参照要約には3つの文が含まれている\n",
    "'. '.join(reference.split('\\n'))"
   ]
  },
  {
   "cell_type": "markdown",
   "metadata": {},
   "source": [
    "## 学習，検証で用いられているデータの元の形式を確認\n",
    "- モデルへは，ここから前処理をした上で DataLoder に加えられて投入される\n",
    "- データ形式\n",
    "    - アドレス \\n\\n 本文（固有名詞は入れ替え済み)\\t\\t\\t ラベル \\n\\n ３つの参照要約（それぞれ一文) \\n\\n 入れ替えた名詞リスト"
   ]
  },
  {
   "cell_type": "code",
   "execution_count": 42,
   "metadata": {
    "collapsed": true
   },
   "outputs": [],
   "source": [
    "from glob import glob\n",
    "files = glob('./data/neuralsum/dailymail/validation/*')"
   ]
  },
  {
   "cell_type": "code",
   "execution_count": 11,
   "metadata": {
    "collapsed": false
   },
   "outputs": [
    {
     "data": {
      "text/plain": [
       "['http://web.archive.org/web/20150410065314id_/http://www.dailymail.co.uk/sport/othersports/article-3011326/Judd-Trump-beats-Luca-Brecel-round-Players-Championship-Thailand.html',\n",
       " \"@entity0 continued his good form by easing to a 4 - 0 victory over up - and - coming @entity4 cueman @entity3 in the first round of the @entity6 in @entity7\\t\\t\\t1\\n@entity0 , who defeated @entity8 to win the @entity9 last sunday before travelling to @entity10 , reached the last 16 with a top break of 71\\t\\t\\t2\\n' i played well and @entity3 did n't , so in the end it was convincing , ' @entity0 told worldsnooker.com\\t\\t\\t0\\n' i need to play better next time\\t\\t\\t0\\n' @entity0 , pictured in action at the @entity9 , eased past @entity3 in @entity7 on wednesday @entity16 reeled off three frames in a row after going 1 - 0 down on his way to a 4 - 2 victory over @entity21 which included top breaks of 93 and 69\\t\\t\\t1\\n@entity16 said : ' @entity21 was unlucky today , on another day he might have won\\t\\t\\t2\\ni 'm trying my best , i have won this title before and i 'm trying to win it again\\t\\t\\t0\\n' i always enjoy coming to @entity7 , the people are very friendly and they love snooker\\t\\t\\t0\\n' @entity16 , pictured in action at the @entity9 , overcame @entity21 4 - 2 after going 1 - 0 down meanwhile , world champion @entity29 chalked up a 4 - 0 win over @entity31 while @entity32 defeated @entity34 champion @entity33 4 - 3\\t\\t\\t1\\n@entity35 saw off @entity36 4 - 2\\t\\t\\t0\\n@entity38 ' @entity37 claimed a 4 - 1 win over home favourite @entity40 .\\t\\t\\t1\",\n",
       " '@entity0 reached the last 16 with a *comfortable* 4 - 0 win on wednesday\\n@entity16 also through after victory over @entity21\\n@entity29 , @entity32 and @entity37 all advance to next round',\n",
       " \"@entity3:Luca Brecel\\n@entity16:Shaun Murphy\\n@entity33:Michael White\\n@entity0:Judd Trump\\n@entity7:Thailand\\n@entity6:Players Championship\\n@entity37:Mark Williams\\n@entity4:Belgium\\n@entity38:Wales\\n@entity9:World Grand Prix\\n@entity8:Ronnie O'Sullivan\\n@entity36:Ricky Walden\\n@entity10:Bangkok\\n@entity21:Rod Lawler\\n@entity40:Thepchaiya Un-Nooh\\n@entity32:Martin Gould\\n@entity29:Mark Selby\\n@entity35:Mark Davis\\n@entity31:Dominic Dale\\n@entity34:Indian Open\"]"
      ]
     },
     "execution_count": 11,
     "metadata": {},
     "output_type": "execute_result"
    }
   ],
   "source": [
    "with open('./data/neuralsum/dailymail/validation/fffd6528e8c8d2d70b6ec6bc5cb65aebce7500f9.summary') as data:\n",
    "    parts=data.read()\n",
    "\n",
    "parts = parts.split('\\n\\n')\n",
    "parts"
   ]
  },
  {
   "cell_type": "code",
   "execution_count": 14,
   "metadata": {
    "collapsed": false
   },
   "outputs": [
    {
     "data": {
      "text/plain": [
       "{'@entity0': 'judd trump',\n",
       " '@entity10': 'bangkok',\n",
       " '@entity16': 'shaun murphy',\n",
       " '@entity21': 'rod lawler',\n",
       " '@entity29': 'mark selby',\n",
       " '@entity3': 'luca brecel',\n",
       " '@entity31': 'dominic dale',\n",
       " '@entity32': 'martin gould',\n",
       " '@entity33': 'michael white',\n",
       " '@entity34': 'indian open',\n",
       " '@entity35': 'mark davis',\n",
       " '@entity36': 'ricky walden',\n",
       " '@entity37': 'mark williams',\n",
       " '@entity38': 'wales',\n",
       " '@entity4': 'belgium',\n",
       " '@entity40': 'thepchaiya un-nooh',\n",
       " '@entity6': 'players championship',\n",
       " '@entity7': 'thailand',\n",
       " '@entity8': \"ronnie o'sullivan\",\n",
       " '@entity9': 'world grand prix'}"
      ]
     },
     "execution_count": 14,
     "metadata": {},
     "output_type": "execute_result"
    }
   ],
   "source": [
    "# 置換した名詞のリストを取得\n",
    "entities = {line.strip().split(':')[0]: line.strip().split(':')[1].lower() for line in parts[-1].split('\\n')}\n",
    "entities"
   ]
  },
  {
   "cell_type": "markdown",
   "metadata": {},
   "source": [
    "## SummaRunner 実装内で用いられているデータの前処理を確認\n",
    "- 文章，要約の置換した単語を元に戻して， \\n でつなげて json形式で保存"
   ]
  },
  {
   "cell_type": "code",
   "execution_count": 20,
   "metadata": {
    "collapsed": true
   },
   "outputs": [],
   "source": [
    "sents, labels, summaries = [], [], []\n",
    "# content\n",
    "for line in parts[1].strip().split('\\n'):\n",
    "    content, label = line.split('\\t\\t\\t')\n",
    "    tokens = content.strip().split()\n",
    "    for i, token in enumerate(tokens):\n",
    "        if token in entities:\n",
    "            tokens[i] = entities[token]\n",
    "    label = '1' if label == '1' else '0'\n",
    "    sents.append(' '.join(tokens))\n",
    "    labels.append(label)\n",
    "# summary\n",
    "for line in parts[2].strip().split('\\n'):\n",
    "    tokens = line.strip().split()\n",
    "    for i, token in enumerate(tokens):\n",
    "        if token in entities:\n",
    "            tokens[i] = entities[token]\n",
    "    line = ' '.join(tokens).replace('*', '')\n",
    "    summaries.append(line)\n",
    "ex = {'doc': '\\n'.join(sents), 'labels': '\\n'.join(labels), 'summaries': '\\n'.join(summaries)}\n"
   ]
  },
  {
   "cell_type": "markdown",
   "metadata": {
    "collapsed": true
   },
   "source": [
    "# 生成された要約のROGUEスコアを計算"
   ]
  },
  {
   "cell_type": "code",
   "execution_count": 32,
   "metadata": {
    "collapsed": true
   },
   "outputs": [],
   "source": [
    "rouge = RougeCalculator(stopwords=True, lang='en')"
   ]
  },
  {
   "cell_type": "code",
   "execution_count": 54,
   "metadata": {
    "collapsed": false
   },
   "outputs": [],
   "source": [
    "rouge2 = rouge.rouge_n(\n",
    "    summary = '. '.join(summary.split('\\n')),\n",
    "    references = reference.split('\\n'),\n",
    "    n=2\n",
    ")"
   ]
  },
  {
   "cell_type": "code",
   "execution_count": 55,
   "metadata": {
    "collapsed": false
   },
   "outputs": [
    {
     "data": {
      "text/plain": [
       "0.06711409395973154"
      ]
     },
     "execution_count": 55,
     "metadata": {},
     "output_type": "execute_result"
    }
   ],
   "source": [
    "rouge2"
   ]
  },
  {
   "cell_type": "code",
   "execution_count": null,
   "metadata": {
    "collapsed": true
   },
   "outputs": [],
   "source": [
    "with open('./outputs/ref/1.txt') as ref:\n",
    "    reference = ref.read()\n",
    "\n",
    "with open('./outputs/hyp/1.txt') as hyp:\n",
    "    summary = hyp.read()\n"
   ]
  },
  {
   "cell_type": "code",
   "execution_count": 61,
   "metadata": {
    "collapsed": false
   },
   "outputs": [
    {
     "name": "stderr",
     "output_type": "stream",
     "text": [
      "10350it [02:03, 83.66it/s]\n"
     ]
    }
   ],
   "source": [
    "import numpy as np\n",
    "from tqdm import tqdm\n",
    "reference_files = np.sort(glob('./outputs/ref/*'))\n",
    "summary_files = np.sort(glob('./outputs/hyp/*'))\n",
    "\n",
    "rouge = RougeCalculator()\n",
    "rouge_1 = np.zeros(len(reference_files))\n",
    "rouge_2 = np.zeros(len(reference_files))\n",
    "rouge_L = np.zeros(len(reference_files))\n",
    "\n",
    "for i, (reference_file, summary_file) in tqdm(enumerate(zip(reference_files, summary_files))):\n",
    "    with open(reference_file) as ref:\n",
    "        reference = ref.read().split('\\n')\n",
    "    with open(summary_file) as summary:\n",
    "        summary = '. '.join(summary.read().split('\\n'))\n",
    "    \n",
    "    rouge_1[i] =  rouge.rouge_n(summary = summary, references = reference, n=1)\n",
    "    rouge_2[i] =  rouge.rouge_n(summary = summary, references = reference, n=2)\n",
    "    rouge_L[i] =  rouge.rouge_l(summary = summary, references = reference)\n",
    "    \n",
    "print(f'rouge_1: {np.mean(rouge_1)}, rouge_2: {np.mean(rouge_2)}, rouge_L: {np.mean(rouge_L)}')\n",
    "        "
   ]
  },
  {
   "cell_type": "code",
   "execution_count": 62,
   "metadata": {
    "collapsed": false
   },
   "outputs": [
    {
     "data": {
      "text/plain": [
       "0.11091496944110452"
      ]
     },
     "execution_count": 62,
     "metadata": {},
     "output_type": "execute_result"
    }
   ],
   "source": [
    "np.mean(rouge_1)"
   ]
  },
  {
   "cell_type": "code",
   "execution_count": 64,
   "metadata": {
    "collapsed": false
   },
   "outputs": [
    {
     "data": {
      "text/plain": [
       "0.04841583385331627"
      ]
     },
     "execution_count": 64,
     "metadata": {},
     "output_type": "execute_result"
    }
   ],
   "source": [
    "np.mean(rouge_2)"
   ]
  },
  {
   "cell_type": "code",
   "execution_count": 65,
   "metadata": {
    "collapsed": false
   },
   "outputs": [
    {
     "data": {
      "text/plain": [
       "0.09774138224335753"
      ]
     },
     "execution_count": 65,
     "metadata": {},
     "output_type": "execute_result"
    }
   ],
   "source": [
    "np.mean(rouge_L)"
   ]
  },
  {
   "cell_type": "code",
   "execution_count": 67,
   "metadata": {
    "collapsed": false
   },
   "outputs": [
    {
     "data": {
      "text/plain": [
       "0.42857142857142855"
      ]
     },
     "execution_count": 67,
     "metadata": {},
     "output_type": "execute_result"
    }
   ],
   "source": [
    "np.max(rouge_1)"
   ]
  },
  {
   "cell_type": "code",
   "execution_count": 102,
   "metadata": {
    "collapsed": false
   },
   "outputs": [
    {
     "name": "stderr",
     "output_type": "stream",
     "text": [
      "10350it [00:46, 223.66it/s]"
     ]
    },
    {
     "name": "stdout",
     "output_type": "stream",
     "text": [
      "rouge_1: 0.14374593623734755, rouge_2: 0.05391307346263283, rouge_L: 0.13621281353697967\n"
     ]
    },
    {
     "name": "stderr",
     "output_type": "stream",
     "text": [
      "\n"
     ]
    }
   ],
   "source": [
    "import numpy as np\n",
    "from tqdm import tqdm\n",
    "reference_files = np.sort(glob('./outputs/ref/*'))\n",
    "summary_files = np.sort(glob('./outputs/hyp/*'))\n",
    "\n",
    "rouge = RougeCalculator()\n",
    "rouge_1 = np.zeros(len(reference_files))\n",
    "rouge_2 = np.zeros(len(reference_files))\n",
    "rouge_L = np.zeros(len(reference_files))\n",
    "\n",
    "for i, (reference_file, summary_file) in tqdm(enumerate(zip(reference_files, summary_files))):\n",
    "    with open(reference_file) as ref:\n",
    "        reference = [reference[:75] for reference in ref.read().split('\\n')]\n",
    "    with open(summary_file) as summary:\n",
    "        summary = '. '.join(summary.read().split('\\n'))[:75]\n",
    "    \n",
    "    rouge_1[i] =  rouge.rouge_n(summary = summary, references = reference, n=1)\n",
    "    rouge_2[i] =  rouge.rouge_n(summary = summary, references = reference, n=2)\n",
    "    rouge_L[i] =  rouge.rouge_l(summary = summary, references = reference)\n",
    "    \n",
    "print(f'rouge_1: {np.mean(rouge_1)}, rouge_2: {np.mean(rouge_2)}, rouge_L: {np.mean(rouge_L)}')\n",
    "        "
   ]
  },
  {
   "cell_type": "code",
   "execution_count": 114,
   "metadata": {
    "collapsed": false
   },
   "outputs": [
    {
     "name": "stdout",
     "output_type": "stream",
     "text": [
      "{'rouge_1_f_score': 0.76879,\n",
      " 'rouge_1_f_score_cb': 0.76879,\n",
      " 'rouge_1_f_score_ce': 0.76879,\n",
      " 'rouge_1_precision': 0.86928,\n",
      " 'rouge_1_precision_cb': 0.86928,\n",
      " 'rouge_1_precision_ce': 0.86928,\n",
      " 'rouge_1_recall': 0.68912,\n",
      " 'rouge_1_recall_cb': 0.68912,\n",
      " 'rouge_1_recall_ce': 0.68912,\n",
      " 'rouge_2_f_score': 0.52941,\n",
      " 'rouge_2_f_score_cb': 0.52941,\n",
      " 'rouge_2_f_score_ce': 0.52941,\n",
      " 'rouge_2_precision': 0.6,\n",
      " 'rouge_2_precision_cb': 0.6,\n",
      " 'rouge_2_precision_ce': 0.6,\n",
      " 'rouge_2_recall': 0.47368,\n",
      " 'rouge_2_recall_cb': 0.47368,\n",
      " 'rouge_2_recall_ce': 0.47368,\n",
      " 'rouge_3_f_score': 0.39521,\n",
      " 'rouge_3_f_score_cb': 0.39521,\n",
      " 'rouge_3_f_score_ce': 0.39521,\n",
      " 'rouge_3_precision': 0.44898,\n",
      " 'rouge_3_precision_cb': 0.44898,\n",
      " 'rouge_3_precision_ce': 0.44898,\n",
      " 'rouge_3_recall': 0.35294,\n",
      " 'rouge_3_recall_cb': 0.35294,\n",
      " 'rouge_3_recall_ce': 0.35294,\n",
      " 'rouge_4_f_score': 0.34147,\n",
      " 'rouge_4_f_score_cb': 0.34147,\n",
      " 'rouge_4_f_score_ce': 0.34147,\n",
      " 'rouge_4_precision': 0.38889,\n",
      " 'rouge_4_precision_cb': 0.38889,\n",
      " 'rouge_4_precision_ce': 0.38889,\n",
      " 'rouge_4_recall': 0.30435,\n",
      " 'rouge_4_recall_cb': 0.30435,\n",
      " 'rouge_4_recall_ce': 0.30435,\n",
      " 'rouge_su4_f_score': 0.61313,\n",
      " 'rouge_su4_f_score_cb': 0.61313,\n",
      " 'rouge_su4_f_score_ce': 0.61313,\n",
      " 'rouge_su4_precision': 0.6977,\n",
      " 'rouge_su4_precision_cb': 0.6977,\n",
      " 'rouge_su4_precision_ce': 0.6977,\n",
      " 'rouge_su4_recall': 0.54685,\n",
      " 'rouge_su4_recall_cb': 0.54685,\n",
      " 'rouge_su4_recall_ce': 0.54685}\n"
     ]
    }
   ],
   "source": [
    "from pyrouge import Rouge155\n",
    "from pprint import pprint\n",
    "\n",
    "ref_texts = {'A': \"Poor nations pressurise developed countries into granting trade subsidies.\",\n",
    "             'B': \"Developed countries should be pressurized. Business exemptions to poor nations.\",\n",
    "             'C': \"World's poor decide to urge developed nations for business concessions.\"}\n",
    "summary_text = \"Poor nations demand trade subsidies from developed nations.\"\n",
    "\n",
    "\n",
    "rouge = Rouge155(n_words=100)\n",
    "score = rouge.score_summary(summary_text, ref_texts)\n",
    "pprint(score)"
   ]
  },
  {
   "cell_type": "code",
   "execution_count": 2,
   "metadata": {
    "collapsed": false
   },
   "outputs": [],
   "source": [
    "from pyrouge import Rouge155"
   ]
  },
  {
   "cell_type": "code",
   "execution_count": 106,
   "metadata": {
    "collapsed": false
   },
   "outputs": [
    {
     "data": {
      "text/plain": [
       "False"
      ]
     },
     "execution_count": 106,
     "metadata": {},
     "output_type": "execute_result"
    }
   ],
   "source": [
    "import os\n",
    "os.path.exists(os.path.join(ROUGE_EVAL_HOME, 'ROUGE-1.5.5.pl'))"
   ]
  },
  {
   "cell_type": "code",
   "execution_count": 116,
   "metadata": {
    "collapsed": false
   },
   "outputs": [
    {
     "data": {
      "text/plain": [
       "'/Users/a_shika/.pyenv/versions/3.6.1/lib/python3.6/site-packages/pyrouge/../tools/ROUGE-1.5.5/ROUGE-1.5.5.pl'"
      ]
     },
     "execution_count": 116,
     "metadata": {},
     "output_type": "execute_result"
    }
   ],
   "source": [
    "os.path.join(ROUGE_EVAL_HOME, 'ROUGE-1.5.5.pl')"
   ]
  },
  {
   "cell_type": "code",
   "execution_count": 109,
   "metadata": {
    "collapsed": true
   },
   "outputs": [],
   "source": [
    "import os\n",
    "\n",
    "def package_files(directory):\n",
    "    paths = []\n",
    "    for (path, directories, filenames) in os.walk(directory):\n",
    "        for filename in filenames:\n",
    "            paths.append(os.path.join('..', path, filename))\n",
    "    return paths\n",
    "\n",
    "extra_files = package_files('path_to/extra_files_dir')"
   ]
  },
  {
   "cell_type": "code",
   "execution_count": 111,
   "metadata": {
    "collapsed": false
   },
   "outputs": [
    {
     "data": {
      "text/plain": [
       "['/Users/a_shika/Desktop/Python_Script/pyrouge/tools/ROUGE-1.5.5/runROUGE-test.pl',\n",
       " '/Users/a_shika/Desktop/Python_Script/pyrouge/tools/ROUGE-1.5.5/ROUGE-1.5.5.pl',\n",
       " '/Users/a_shika/Desktop/Python_Script/pyrouge/tools/ROUGE-1.5.5/RELEASE-NOTE.txt',\n",
       " '/Users/a_shika/Desktop/Python_Script/pyrouge/tools/ROUGE-1.5.5/README.txt',\n",
       " '/Users/a_shika/Desktop/Python_Script/pyrouge/tools/ROUGE-1.5.5/XML/RegExp.pm',\n",
       " '/Users/a_shika/Desktop/Python_Script/pyrouge/tools/ROUGE-1.5.5/XML/DOM.pm',\n",
       " '/Users/a_shika/Desktop/Python_Script/pyrouge/tools/ROUGE-1.5.5/XML/Handler/BuildDOM.pm',\n",
       " '/Users/a_shika/Desktop/Python_Script/pyrouge/tools/ROUGE-1.5.5/XML/DOM/AttDef.pod',\n",
       " '/Users/a_shika/Desktop/Python_Script/pyrouge/tools/ROUGE-1.5.5/XML/DOM/Notation.pod',\n",
       " '/Users/a_shika/Desktop/Python_Script/pyrouge/tools/ROUGE-1.5.5/XML/DOM/CharacterData.pod',\n",
       " '/Users/a_shika/Desktop/Python_Script/pyrouge/tools/ROUGE-1.5.5/XML/DOM/CDATASection.pod',\n",
       " '/Users/a_shika/Desktop/Python_Script/pyrouge/tools/ROUGE-1.5.5/XML/DOM/PerlSAX.pm',\n",
       " '/Users/a_shika/Desktop/Python_Script/pyrouge/tools/ROUGE-1.5.5/XML/DOM/Parser.pod',\n",
       " '/Users/a_shika/Desktop/Python_Script/pyrouge/tools/ROUGE-1.5.5/XML/DOM/DOMImplementation.pod',\n",
       " '/Users/a_shika/Desktop/Python_Script/pyrouge/tools/ROUGE-1.5.5/XML/DOM/AttlistDecl.pod',\n",
       " '/Users/a_shika/Desktop/Python_Script/pyrouge/tools/ROUGE-1.5.5/XML/DOM/NodeList.pod',\n",
       " '/Users/a_shika/Desktop/Python_Script/pyrouge/tools/ROUGE-1.5.5/XML/DOM/Element.pod',\n",
       " '/Users/a_shika/Desktop/Python_Script/pyrouge/tools/ROUGE-1.5.5/XML/DOM/Document.pod',\n",
       " '/Users/a_shika/Desktop/Python_Script/pyrouge/tools/ROUGE-1.5.5/XML/DOM/NamedNodeMap.pm',\n",
       " '/Users/a_shika/Desktop/Python_Script/pyrouge/tools/ROUGE-1.5.5/XML/DOM/NamedNodeMap.pod',\n",
       " '/Users/a_shika/Desktop/Python_Script/pyrouge/tools/ROUGE-1.5.5/XML/DOM/Text.pod',\n",
       " '/Users/a_shika/Desktop/Python_Script/pyrouge/tools/ROUGE-1.5.5/XML/DOM/Entity.pod',\n",
       " '/Users/a_shika/Desktop/Python_Script/pyrouge/tools/ROUGE-1.5.5/XML/DOM/NodeList.pm',\n",
       " '/Users/a_shika/Desktop/Python_Script/pyrouge/tools/ROUGE-1.5.5/XML/DOM/ProcessingInstruction.pod',\n",
       " '/Users/a_shika/Desktop/Python_Script/pyrouge/tools/ROUGE-1.5.5/XML/DOM/DOMException.pm',\n",
       " '/Users/a_shika/Desktop/Python_Script/pyrouge/tools/ROUGE-1.5.5/XML/DOM/XMLDecl.pod',\n",
       " '/Users/a_shika/Desktop/Python_Script/pyrouge/tools/ROUGE-1.5.5/XML/DOM/EntityReference.pod',\n",
       " '/Users/a_shika/Desktop/Python_Script/pyrouge/tools/ROUGE-1.5.5/XML/DOM/DocumentFragment.pod',\n",
       " '/Users/a_shika/Desktop/Python_Script/pyrouge/tools/ROUGE-1.5.5/XML/DOM/Comment.pod',\n",
       " '/Users/a_shika/Desktop/Python_Script/pyrouge/tools/ROUGE-1.5.5/XML/DOM/ElementDecl.pod',\n",
       " '/Users/a_shika/Desktop/Python_Script/pyrouge/tools/ROUGE-1.5.5/XML/DOM/DocumentType.pod',\n",
       " '/Users/a_shika/Desktop/Python_Script/pyrouge/tools/ROUGE-1.5.5/XML/DOM/Node.pod',\n",
       " '/Users/a_shika/Desktop/Python_Script/pyrouge/tools/ROUGE-1.5.5/XML/DOM/Attr.pod',\n",
       " '/Users/a_shika/Desktop/Python_Script/pyrouge/tools/ROUGE-1.5.5/data/smart_common_words.txt',\n",
       " '/Users/a_shika/Desktop/Python_Script/pyrouge/tools/ROUGE-1.5.5/data/WordNet-2.0.exc.db',\n",
       " '/Users/a_shika/Desktop/Python_Script/pyrouge/tools/ROUGE-1.5.5/data/WordNet-1.6-Exceptions/verb.exc',\n",
       " '/Users/a_shika/Desktop/Python_Script/pyrouge/tools/ROUGE-1.5.5/data/WordNet-1.6-Exceptions/adj.exc',\n",
       " '/Users/a_shika/Desktop/Python_Script/pyrouge/tools/ROUGE-1.5.5/data/WordNet-1.6-Exceptions/noun.exc',\n",
       " '/Users/a_shika/Desktop/Python_Script/pyrouge/tools/ROUGE-1.5.5/data/WordNet-1.6-Exceptions/adv.exc',\n",
       " '/Users/a_shika/Desktop/Python_Script/pyrouge/tools/ROUGE-1.5.5/data/WordNet-1.6-Exceptions/buildExeptionDB.pl',\n",
       " '/Users/a_shika/Desktop/Python_Script/pyrouge/tools/ROUGE-1.5.5/data/WordNet-2.0-Exceptions/verb.exc',\n",
       " '/Users/a_shika/Desktop/Python_Script/pyrouge/tools/ROUGE-1.5.5/data/WordNet-2.0-Exceptions/adj.exc',\n",
       " '/Users/a_shika/Desktop/Python_Script/pyrouge/tools/ROUGE-1.5.5/data/WordNet-2.0-Exceptions/noun.exc',\n",
       " '/Users/a_shika/Desktop/Python_Script/pyrouge/tools/ROUGE-1.5.5/data/WordNet-2.0-Exceptions/adv.exc',\n",
       " '/Users/a_shika/Desktop/Python_Script/pyrouge/tools/ROUGE-1.5.5/data/WordNet-2.0-Exceptions/buildExeptionDB.pl']"
      ]
     },
     "execution_count": 111,
     "metadata": {},
     "output_type": "execute_result"
    }
   ],
   "source": [
    "package_files('/Users/a_shika/Desktop/Python_Script/pyrouge/tools')"
   ]
  },
  {
   "cell_type": "code",
   "execution_count": 3,
   "metadata": {
    "collapsed": true
   },
   "outputs": [],
   "source": [
    "import os"
   ]
  },
  {
   "cell_type": "code",
   "execution_count": 4,
   "metadata": {
    "collapsed": false
   },
   "outputs": [
    {
     "data": {
      "text/plain": [
       "'/Users/a_shika'"
      ]
     },
     "execution_count": 4,
     "metadata": {},
     "output_type": "execute_result"
    }
   ],
   "source": [
    "os.path.expanduser(\"~\")"
   ]
  },
  {
   "cell_type": "code",
   "execution_count": null,
   "metadata": {
    "collapsed": true
   },
   "outputs": [],
   "source": []
  }
 ],
 "metadata": {
  "kernelspec": {
   "display_name": "Python 3",
   "language": "python",
   "name": "python3"
  }
 },
 "nbformat": 4,
 "nbformat_minor": 2
}
