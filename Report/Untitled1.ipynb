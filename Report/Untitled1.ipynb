{
 "cells": [
  {
   "cell_type": "markdown",
   "metadata": {},
   "source": [
    "# 要約用の論文データセットを作成　"
   ]
  },
  {
   "cell_type": "code",
   "execution_count": 57,
   "metadata": {
    "collapsed": true
   },
   "outputs": [],
   "source": [
    "# https://www.nature.com/articles/s41593-018-0143-z\n",
    "abs1 = 'How learning enhances neural representations for behaviorally relevant stimuli via activity changes of cortical cell types remains unclear. We simultaneously imaged responses of pyramidal cells (PYR) along with parvalbumin (PV), somatostatin (SOM), and vasoactive intestinal peptide (VIP) inhibitory interneurons in primary visual cortex while mice learned to discriminate visual patterns. Learning increased selectivity for task-relevant stimuli of PYR, PV and SOM subsets but not VIP cells. Strikingly, PV neurons became as selective as PYR cells, and their functional interactions reorganized, leading to the emergence of stimulus-selective PYR–PV ensembles. Conversely, SOM activity became strongly decorrelated from the network, and PYR–SOM coupling before learning predicted selectivity increases in individual PYR cells. Thus, learning differentially shapes the activity and interactions of multiple cell classes: while SOM inhibition may gate selectivity changes, PV interneurons become recruited into stimulus-specific ensembles and provide more selective inhibition as the network becomes better at discriminating behaviorally relevant stimuli.'"
   ]
  },
  {
   "cell_type": "code",
   "execution_count": 58,
   "metadata": {
    "collapsed": true
   },
   "outputs": [],
   "source": [
    "# https://www.nature.com/articles/s41593-018-0154-9\n",
    "abs2 = 'There is a need for new therapeutic targets with which to prevent Alzheimer’s disease (AD), a major contributor to aging-related cognitive decline. Here we report the construction and validation of a molecular network of the aging human frontal cortex. Using RNA sequence data from 478 individuals, we first build a molecular network using modules of coexpressed genes and then relate these modules to AD and its neuropathologic and cognitive endophenotypes. We confirm these associations in two independent AD datasets. We also illustrate the use of the network in prioritizing amyloid- and cognition-associated genes for in vitro validation in human neurons and astrocytes. These analyses based on unique cohorts enable us to resolve the role of distinct cortical modules that have a direct effect on the accumulation of AD pathology from those that have a direct effect on cognitive decline, exemplifying a network approach to complex diseases.'"
   ]
  },
  {
   "cell_type": "code",
   "execution_count": 59,
   "metadata": {
    "collapsed": true
   },
   "outputs": [],
   "source": [
    "# https://www.nature.com/articles/s41593-017-0032-x\n",
    "abs3 = 'Delay discounting (DD), the tendency to discount the value of delayed versus current rewards, is elevated in a constellation of diseases and behavioral conditions. We performed a genome-wide association study of DD using 23,127 research participants of European ancestry. The most significantly associated single-nucleotide polymorphism was rs6528024 (P = 2.40 × 10−8), which is located in an intron of the gene GPM6B. We also showed that 12% of the variance in DD was accounted for by genotype and that the genetic signature of DD overlapped with attention-deficit/hyperactivity disorder, schizophrenia, major depression, smoking, personality, cognition and body weight.'"
   ]
  },
  {
   "cell_type": "code",
   "execution_count": 60,
   "metadata": {
    "collapsed": true
   },
   "outputs": [],
   "source": [
    "# https://www.nature.com/articles/s41467-018-04120-z\n",
    "abs4 = 'Delta-secretase cleaves both APP and Tau to mediate the formation of amyloid plaques and neurofibrillary tangle in Alzheimer’s disease (AD). However, how aging contributes to an increase in delta-secretase expression and AD pathologies remains unclear. Here we show that a CCAAT-enhancer-binding protein (C/EBPβ), an inflammation-regulated transcription factor, acts as a key age-dependent effector elevating both delta-secretase (AEP) and inflammatory cytokines expression in mediating pathogenesis in AD mouse models. We find that C/EBPβ regulates delta-secretase transcription and protein levels in an age-dependent manner. Overexpression of C/EBPβ in young 3xTg mice increases delta-secretase and accelerates the pathological features including cognitive dysfunctions, which is abolished by inactive AEP C189S. Conversely, depletion of C/EBPβ from old 3xTg or 5XFAD mice diminishes delta-secretase and reduces AD pathologies, leading to amelioration of cognitive impairment in these AD mouse models. Thus, our findings support that C/EBPβ plays a pivotal role in AD pathogenesis via increasing delta-secretase expression.'"
   ]
  },
  {
   "cell_type": "code",
   "execution_count": 61,
   "metadata": {
    "collapsed": false
   },
   "outputs": [],
   "source": [
    "abstracts = [abs1, abs2, abs3, abs4]\n",
    "dataset = [{'doc': '.\\n'.join(abstract.split('.')[:-1]), 'label':1} for abstract in abstracts]"
   ]
  },
  {
   "cell_type": "code",
   "execution_count": 55,
   "metadata": {
    "collapsed": false
   },
   "outputs": [
    {
     "data": {
      "text/plain": [
       "['How learning enhances neural representations for behaviorally relevant stimuli via activity changes of cortical cell types remains unclear',\n",
       " ' We simultaneously imaged responses of pyramidal cells (PYR) along with parvalbumin (PV), somatostatin (SOM), and vasoactive intestinal peptide (VIP) inhibitory interneurons in primary visual cortex while mice learned to discriminate visual patterns',\n",
       " ' Learning increased selectivity for task-relevant stimuli of PYR, PV and SOM subsets but not VIP cells',\n",
       " ' Strikingly, PV neurons became as selective as PYR cells, and their functional interactions reorganized, leading to the emergence of stimulus-selective PYR–PV ensembles',\n",
       " ' Conversely, SOM activity became strongly decorrelated from the network, and PYR–SOM coupling before learning predicted selectivity increases in individual PYR cells',\n",
       " ' Thus, learning differentially shapes the activity and interactions of multiple cell classes: while SOM inhibition may gate selectivity changes, PV interneurons become recruited into stimulus-specific ensembles and provide more selective inhibition as the network becomes better at discriminating behaviorally relevant stimuli']"
      ]
     },
     "execution_count": 55,
     "metadata": {},
     "output_type": "execute_result"
    }
   ],
   "source": []
  },
  {
   "cell_type": "code",
   "execution_count": 32,
   "metadata": {
    "collapsed": true
   },
   "outputs": [],
   "source": [
    "with open('../data/predict_source.json') as f:\n",
    "    examples = [json.loads(line) for line in f]"
   ]
  },
  {
   "cell_type": "code",
   "execution_count": 36,
   "metadata": {
    "collapsed": false
   },
   "outputs": [
    {
     "data": {
      "text/plain": [
       "['How learning enhances neural representations for behaviorally relevant stimuli via activity changes of cortical cell types remains unclear.',\n",
       " ' We simultaneously imaged responses of pyramidal cells (PYR) along with parvalbumin (PV), somatostatin (SOM), and vasoactive intestinal peptide (VIP) inhibitory interneurons in primary visual cortex while mice learned to discriminate visual patterns.',\n",
       " ' Learning increased selectivity for task-relevant stimuli of PYR, PV and SOM subsets but not VIP cells.',\n",
       " ' Strikingly, PV neurons became as selective as PYR cells, and their functional interactions reorganized, leading to the emergence of stimulus-selective PYR–PV ensembles.',\n",
       " ' Conversely, SOM activity became strongly decorrelated from the network, and PYR–SOM coupling before learning predicted selectivity increases in individual PYR cells.',\n",
       " ' Thus, learning differentially shapes the activity and interactions of multiple cell classes: while SOM inhibition may gate selectivity changes, PV interneurons become recruited into stimulus-specific ensembles and provide more selective inhibition as the network becomes better at discriminating behaviorally relevant stimuli.',\n",
       " '']"
      ]
     },
     "execution_count": 36,
     "metadata": {},
     "output_type": "execute_result"
    }
   ],
   "source": [
    "examples[0][0]['doc'].split('\\n')"
   ]
  },
  {
   "cell_type": "code",
   "execution_count": 27,
   "metadata": {
    "collapsed": false
   },
   "outputs": [],
   "source": [
    "with open('../data/test.json') as f:\n",
    "    examples = [json.loads(line) for line in f]"
   ]
  },
  {
   "cell_type": "code",
   "execution_count": 31,
   "metadata": {
    "collapsed": false
   },
   "outputs": [
    {
     "data": {
      "text/plain": [
       "[\"things have n't been going well for manchester united flop anderson since he left old trafford to return to brazil , but at least on wednesday his own errors were outshone by the stupidity of a team - mate\",\n",
       " 'the brazil midfielder was sent off for internacional after a first - half off - the - ball shove on ypiranga erechim striker neto that also saw his opponent sent off for retaliating with an elbow',\n",
       " 'but fortunately for anderson , his colleague fabricio stole the limelight by swearing at his own fans and becoming the third player to be shown the red card , reducing internacional to nine men in the 1 - 1 draw in porto alegre',\n",
       " 'former manchester united midfielder anderson shoved neto off the ball to earn a red card neto also saw red after he retaliated by by appearing to aim an elbow at anderson in porto alegre the two players listen to the referee as he reaches for his card from his back pocket on wednesday night anderson shows his shock to be shown the red card for what he believed to be an innocent challenge while some players offered their hands in apology to the fans after being repeatedly booed , fabricio took a different route and showed two middle fingers to the crowd leaving referee luis teixeira rocha with no choice but to give him his marching orders',\n",
       " \"the 28 - year - old left back reacted by tearing off his shirt , throwing it to the floor and shouting ' i 'm leaving , i 'm leaving , ' as he walked down the tunnel\",\n",
       " 'he has already been suspended until the end of the week by his club',\n",
       " 'anderson ended his seven - and - a - half year association with manchester united in february by signing a four - year deal with internacional , but his return to brazil has not gone as planned',\n",
       " \"internacional 's fabricio was also sent off later in the game for aiming his middle fingers at booing fans fabricio threw his shirt to the ground after being shown the red card and shouted ' i 'm leaving , i 'm leaving ' having missed a penalty on his debut , he was substituted later in february after just 36 minutes needing oxygen while playing in the high - altitude estadio hernando siles in la paz\",\n",
       " 'while internacional sit top of the table in the campeonato gaucho , anderson has faced a familiar struggle for fitness despite making eight appearances since his move',\n",
       " 'anderson ended a miserable seven - and - a - half year spell with manchester united by leaving this season']"
      ]
     },
     "execution_count": 31,
     "metadata": {},
     "output_type": "execute_result"
    }
   ],
   "source": [
    "examples[0]['doc'].split('\\n')"
   ]
  },
  {
   "cell_type": "code",
   "execution_count": 18,
   "metadata": {
    "collapsed": false
   },
   "outputs": [
    {
     "data": {
      "text/plain": [
       "dict"
      ]
     },
     "execution_count": 18,
     "metadata": {},
     "output_type": "execute_result"
    }
   ],
   "source": [
    "type(examples[0])"
   ]
  },
  {
   "cell_type": "code",
   "execution_count": 62,
   "metadata": {
    "collapsed": true
   },
   "outputs": [],
   "source": [
    "import json\n",
    "with open('../data/predict_source.json', 'w') as f:\n",
    "    json.dump(dataset, f)"
   ]
  },
  {
   "cell_type": "code",
   "execution_count": 9,
   "metadata": {
    "collapsed": false
   },
   "outputs": [],
   "source": [
    "import os\n",
    "import sys\n",
    "sys.path.insert(0, os.path.dirname(os.path.abspath(os.path.dirname('__file__'))))\n",
    "\n",
    "import json\n",
    "import models\n",
    "import utils\n",
    "import argparse, random, logging, numpy, os\n",
    "import torch\n",
    "import torch.nn as nn\n",
    "import torch.nn.functional as F\n",
    "import numpy as np\n",
    "from torch.autograd import Variable\n",
    "from torch.utils.data import DataLoader\n",
    "from torch.nn.utils import clip_grad_norm\n",
    "from time import time\n",
    "from tqdm import tqdm"
   ]
  },
  {
   "cell_type": "code",
   "execution_count": 2,
   "metadata": {
    "collapsed": false
   },
   "outputs": [
    {
     "data": {
      "text/plain": [
       "['/Users/a_shika/Desktop/Python_Script/DLhacks/SummaRuNNer',\n",
       " '',\n",
       " '/Users/a_shika/.pyenv/versions/3.6.1/lib/python36.zip',\n",
       " '/Users/a_shika/.pyenv/versions/3.6.1/lib/python3.6',\n",
       " '/Users/a_shika/.pyenv/versions/3.6.1/lib/python3.6/lib-dynload',\n",
       " '/Users/a_shika/.local/lib/python3.6/site-packages',\n",
       " '/Users/a_shika/.pyenv/versions/3.6.1/lib/python3.6/site-packages',\n",
       " '/Users/a_shika/.pyenv/versions/3.6.1/lib/python3.6/site-packages/aeosa',\n",
       " '/Users/a_shika/.pyenv/versions/3.6.1/lib/python3.6/site-packages/xgboost-0.6-py3.6.egg',\n",
       " '/Users/a_shika/.pyenv/versions/3.6.1/lib/python3.6/site-packages/python_louvain-0.9-py3.6.egg',\n",
       " '/Users/a_shika/.pyenv/versions/3.6.1/lib/python3.6/site-packages/pytorch2keras-0.1-py3.6.egg',\n",
       " '/Users/a_shika/.pyenv/versions/3.6.1/lib/python3.6/site-packages/IPython/extensions',\n",
       " '/Users/a_shika/.ipython']"
      ]
     },
     "execution_count": 2,
     "metadata": {},
     "output_type": "execute_result"
    }
   ],
   "source": [
    "import os\n",
    "import sys\n",
    "sys.path.insert(0, os.path.dirname(os.path.abspath(os.path.dirname('__file__'))))\n",
    "sys.path"
   ]
  }
 ],
 "metadata": {
  "kernelspec": {
   "display_name": "Python 3",
   "language": "python",
   "name": "python3"
  },
  "language_info": {
   "codemirror_mode": {
    "name": "ipython",
    "version": 3
   },
   "file_extension": ".py",
   "mimetype": "text/x-python",
   "name": "python",
   "nbconvert_exporter": "python",
   "pygments_lexer": "ipython3",
   "version": "3.6.1"
  }
 },
 "nbformat": 4,
 "nbformat_minor": 2
}
